{
 "cells": [
  {
   "cell_type": "code",
   "execution_count": 2,
   "metadata": {},
   "outputs": [],
   "source": [
    "import pandas as pd\n",
    "df = pd.read_csv(\"out_data_2\\data_2_pn.csv\", sep='\\t')\n",
    "cols = list(df)\n",
    "sdf = pd.DataFrame(columns=cols)\n",
    "with open(\"DeepLearningtextFile.txt\", \"w\") as text_file:\n",
    "    for index, row in df.iterrows():\n",
    "        line1 = row[' text'].replace(row[' aspect_term'],\"$T$\")\n",
    "        line2 = row[' aspect_term']\n",
    "        line3 = str(row[' class'])\n",
    "        text_file.write(line1 + \"\\n\")\n",
    "        text_file.write(line2 + \"\\n\")\n",
    "        text_file.write(line3 + \"\\n\")"
   ]
  },
  {
   "cell_type": "code",
   "execution_count": null,
   "metadata": {},
   "outputs": [],
   "source": []
  }
 ],
 "metadata": {
  "kernelspec": {
   "display_name": "Python 3",
   "language": "python",
   "name": "python3"
  },
  "language_info": {
   "codemirror_mode": {
    "name": "ipython",
    "version": 3
   },
   "file_extension": ".py",
   "mimetype": "text/x-python",
   "name": "python",
   "nbconvert_exporter": "python",
   "pygments_lexer": "ipython3",
   "version": "3.6.5"
  }
 },
 "nbformat": 4,
 "nbformat_minor": 2
}
