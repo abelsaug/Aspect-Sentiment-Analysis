{
 "cells": [
  {
   "cell_type": "markdown",
   "metadata": {},
   "source": [
    "## Random Split of data"
   ]
  },
  {
   "cell_type": "code",
   "execution_count": 15,
   "metadata": {},
   "outputs": [],
   "source": [
    "import pandas as pd\n",
    "import random\n",
    "with open('out_data_2\\data_2_lm_pn.csv','r') as csvf:\n",
    "    linecount = sum(1 for line in csvf if line.strip() != '')\n",
    "indices = list(range(linecount))\n",
    "random.shuffle(indices)\n",
    "ind_test = set(indices[:int(linecount*0.15)])\n",
    "with open('out_data_2\\data_2_lm_pn.csv','r') as csvf, open('train_att.csv','w') as trainf, open('test_att.csv','w') as testf:\n",
    "    i = 0\n",
    "    header = next(csvf)\n",
    "    testf.write(header)\n",
    "    trainf.write(header)\n",
    "    for line in csvf:\n",
    "        if line.strip() != '':\n",
    "            if i in ind_test:\n",
    "                testf.write(line.strip() + '\\n')\n",
    "            else:\n",
    "                trainf.write(line.strip() + '\\n')\n",
    "            i+=1"
   ]
  },
  {
   "cell_type": "code",
   "execution_count": null,
   "metadata": {},
   "outputs": [],
   "source": []
  },
  {
   "cell_type": "code",
   "execution_count": null,
   "metadata": {},
   "outputs": [],
   "source": []
  }
 ],
 "metadata": {
  "kernelspec": {
   "display_name": "Python 3",
   "language": "python",
   "name": "python3"
  },
  "language_info": {
   "codemirror_mode": {
    "name": "ipython",
    "version": 3
   },
   "file_extension": ".py",
   "mimetype": "text/x-python",
   "name": "python",
   "nbconvert_exporter": "python",
   "pygments_lexer": "ipython3",
   "version": "3.6.5"
  }
 },
 "nbformat": 4,
 "nbformat_minor": 2
}
