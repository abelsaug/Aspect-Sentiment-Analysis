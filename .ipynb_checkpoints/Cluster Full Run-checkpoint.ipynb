{
 "cells": [
  {
   "cell_type": "code",
   "execution_count": 1,
   "metadata": {},
   "outputs": [
    {
     "name": "stdout",
     "output_type": "stream",
     "text": [
      "Writing my_job_script\n"
     ]
    }
   ],
   "source": [
    "%%writefile my_job_script\n",
    "echo \"Running myapplication.py\"\n",
    "python MultinomialNB_Model.py"
   ]
  },
  {
   "cell_type": "code",
   "execution_count": 2,
   "metadata": {},
   "outputs": [
    {
     "name": "stdout",
     "output_type": "stream",
     "text": [
      "58519.c009\r\n"
     ]
    }
   ],
   "source": [
    "!qsub my_job_script"
   ]
  },
  {
   "cell_type": "code",
   "execution_count": 5,
   "metadata": {},
   "outputs": [
    {
     "name": "stdout",
     "output_type": "stream",
     "text": [
      "Job ID                    Name             User            Time Use S Queue\r\n",
      "------------------------- ---------------- --------------- -------- - -----\r\n",
      "58517.c009                 ...ub-singleuser u13362          00:00:03 R jupyterhub     \r\n"
     ]
    }
   ],
   "source": [
    "!qstat"
   ]
  },
  {
   "cell_type": "code",
   "execution_count": 6,
   "metadata": {},
   "outputs": [
    {
     "name": "stdout",
     "output_type": "stream",
     "text": [
      "my_job_script  my_job_script.e58519  my_job_script.o58519\r\n"
     ]
    }
   ],
   "source": [
    "%ls my_job_script*"
   ]
  },
  {
   "cell_type": "code",
   "execution_count": 7,
   "metadata": {},
   "outputs": [
    {
     "name": "stdout",
     "output_type": "stream",
     "text": [
      "\r\n",
      "########################################################################\r\n",
      "# Colfax Cluster - https://colfaxresearch.com/\r\n",
      "#      Date:           Thu Apr 12 09:32:38 PDT 2018\r\n",
      "#    Job ID:           58519.c009\r\n",
      "#      User:           u13362\r\n",
      "# Resources:           neednodes=1:ppn=2,nodes=1:ppn=2,walltime=06:00:00\r\n",
      "########################################################################\r\n",
      "\r\n",
      "Running myapplication.py\r\n",
      "\r\n",
      "########################################################################\r\n",
      "# Colfax Cluster\r\n",
      "# End of output for job 58519.c009\r\n",
      "# Date: Thu Apr 12 09:32:38 PDT 2018\r\n",
      "########################################################################\r\n",
      "\r\n"
     ]
    }
   ],
   "source": [
    "%cat my_job_script.o*"
   ]
  },
  {
   "cell_type": "code",
   "execution_count": 10,
   "metadata": {},
   "outputs": [],
   "source": [
    "import cfxmagic"
   ]
  },
  {
   "cell_type": "code",
   "execution_count": 11,
   "metadata": {},
   "outputs": [
    {
     "name": "stdout",
     "output_type": "stream",
     "text": [
      "58521.c009\n",
      "\n"
     ]
    }
   ],
   "source": [
    "%%qsub\n",
    "cd $PBS_O_WORKDIR\n",
    "python MultinomialNB_Model.py"
   ]
  },
  {
   "cell_type": "code",
   "execution_count": null,
   "metadata": {},
   "outputs": [],
   "source": [
    "%ls STDIN.*\n",
    "%cat STDIN.o*"
   ]
  }
 ],
 "metadata": {
  "kernelspec": {
   "display_name": "Python 3 (Intel, 2018 update 2)",
   "language": "python",
   "name": "intel_distribution_of_python_3_2018u2"
  },
  "language_info": {
   "codemirror_mode": {
    "name": "ipython",
    "version": 3
   },
   "file_extension": ".py",
   "mimetype": "text/x-python",
   "name": "python",
   "nbconvert_exporter": "python",
   "pygments_lexer": "ipython3",
   "version": "3.6.3"
  }
 },
 "nbformat": 4,
 "nbformat_minor": 2
}
