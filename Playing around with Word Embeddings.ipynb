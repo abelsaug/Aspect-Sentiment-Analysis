{
 "cells": [
  {
   "cell_type": "markdown",
   "metadata": {},
   "source": [
    "# Playing around with Word Embeddings\n"
   ]
  },
  {
   "cell_type": "markdown",
   "metadata": {},
   "source": [
    "## 1. Count Vectorized with aspect weights"
   ]
  },
  {
   "cell_type": "code",
   "execution_count": null,
   "metadata": {},
   "outputs": [],
   "source": [
    "def apply_aspdep_weight(train_df, weight):\n",
    "    train_text = train_df[' text'].values.astype('U')\n",
    "    train_aspdep = train_df['asp_dep_words'].values.astype('U')\n",
    "    text_count_vect = CountVectorizer()\n",
    "    x_text_counts = text_count_vect.fit_transform(train_text)\n",
    "    text_voc = text_count_vect.vocabulary_\n",
    "    asp_dep_vect = CountVectorizer(vocabulary=text_voc)\n",
    "    x_aspdep_counts = asp_dep_vect.fit_transform(train_aspdep)\n",
    "    x_count_vec = x_text_counts + weight * x_aspdep_counts\n",
    "    x_tfidf_vec = TfidfTransformer(use_idf=True).fit_transform(x_count_vec)\n",
    "    return x_tfidf_vec"
   ]
  },
  {
   "cell_type": "markdown",
   "metadata": {},
   "source": [
    "## 2. Count Vectorized with aspect weight distribution "
   ]
  },
  {
   "cell_type": "code",
   "execution_count": null,
   "metadata": {},
   "outputs": [],
   "source": [
    "def extract_aspect_related_words(sdp, ardf):\n",
    "    print(\"Extracting aspect related words from text...\")\n",
    "    cols = list(ardf)\n",
    "    cols.append('asp_dep_words')\n",
    "    ar_df = pandas.DataFrame(columns=cols)\n",
    "    count = 0\n",
    "    for index, row in ardf.iterrows():\n",
    "        count += 1\n",
    "        print(count)\n",
    "        dep_set = set()\n",
    "        result = list(sdp.raw_parse(row[' text']))\n",
    "        parse_triples_list = [item for item in result[0].triples()]\n",
    "        for governor, dep, dependent in parse_triples_list:\n",
    "            if governor[0] in row[' aspect_term'] or dependent[0] in row[' aspect_term']:\n",
    "                dep_set.add(governor[0])\n",
    "                dep_set.add(dependent[0])\n",
    "        ar_row = [row[c] for c in cols[:-1]]\n",
    "        ar_row.append(' '.join(list(dep_set)))\n",
    "        ar_df.loc[len(ar_df.index)] = ar_row\n",
    "        # print\n",
    "    return ar_df"
   ]
  },
  {
   "cell_type": "code",
   "execution_count": null,
   "metadata": {},
   "outputs": [],
   "source": [
    "##TEST CELL\n",
    "\n",
    "extract_aspect_related_words()\n"
   ]
  }
 ],
 "metadata": {
  "kernelspec": {
   "display_name": "Python 3",
   "language": "python",
   "name": "python3"
  },
  "language_info": {
   "codemirror_mode": {
    "name": "ipython",
    "version": 3
   },
   "file_extension": ".py",
   "mimetype": "text/x-python",
   "name": "python",
   "nbconvert_exporter": "python",
   "pygments_lexer": "ipython3",
   "version": "3.6.5"
  }
 },
 "nbformat": 4,
 "nbformat_minor": 2
}
